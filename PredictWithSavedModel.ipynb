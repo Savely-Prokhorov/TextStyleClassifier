{
  "nbformat": 4,
  "nbformat_minor": 0,
  "metadata": {
    "colab": {
      "name": "Untitled0.ipynb",
      "provenance": [],
      "collapsed_sections": [],
      "authorship_tag": "ABX9TyM8bDG/APxmEidnEKnT04VF",
      "include_colab_link": true
    },
    "kernelspec": {
      "name": "python3",
      "display_name": "Python 3"
    }
  },
  "cells": [
    {
      "cell_type": "markdown",
      "metadata": {
        "id": "view-in-github",
        "colab_type": "text"
      },
      "source": [
        "<a href=\"https://colab.research.google.com/github/Savely-Prokhorov/TextStyleClassifier/blob/master/PredictWithSavedModel.ipynb\" target=\"_parent\"><img src=\"https://colab.research.google.com/assets/colab-badge.svg\" alt=\"Open In Colab\"/></a>"
      ]
    },
    {
      "cell_type": "code",
      "metadata": {
        "id": "5xqE4jY3YTq7",
        "colab_type": "code",
        "colab": {}
      },
      "source": [
        "from sklearn.neighbors import KNeighborsClassifier as KNN\n",
        "from sklearn.feature_extraction.text import TfidfVectorizer\n",
        "import numpy as np\n",
        "import pandas as pd\n",
        "import os\n",
        "import pickle"
      ],
      "execution_count": 0,
      "outputs": []
    },
    {
      "cell_type": "code",
      "metadata": {
        "id": "bzbdv9BtccVQ",
        "colab_type": "code",
        "colab": {
          "base_uri": "https://localhost:8080/",
          "height": 243
        },
        "outputId": "143c4fc6-ca8b-49c6-ab1b-01993b9e3a37"
      },
      "source": [
        "cur_dir = os.getcwd()\n",
        "files = os.listdir('./texts_to_predict')\n",
        "paths = [os.path.join(cur_dir,'texts_to_predict', file_name) for file_name in files]\n",
        "print(paths)\n",
        "texts = []\n",
        "for file in paths:\n",
        "  with open(file) as f:\n",
        "    text = f.read()\n",
        "    texts.append(text)\n",
        "print(texts)\n",
        "\n",
        "data = pd.DataFrame({\n",
        "    'path': paths,\n",
        "    'file_name': files,\n",
        "    'text': texts\n",
        "})\n",
        "data.head()"
      ],
      "execution_count": 32,
      "outputs": [
        {
          "output_type": "stream",
          "text": [
            "['/content/texts_to_predict/colloquial.txt', '/content/texts_to_predict/fiction.txt', '/content/texts_to_predict/publicistic.txt', '/content/texts_to_predict/official.txt', '/content/texts_to_predict/scientific.txt']\n",
            "['— Отворите же, черт возьми! Долго ли ещё мне придётся коченеть на этом сквозном ветру? Если б вы знали, что в вашем коридоре двадцать градусов мороза, вы не заставили бы меня ждать так долго! Или, быть может, у вас нет сердца?', 'Когда однорукий Федор вернулся домой, мать была в живых. Состарилась, отощала, седины прибавилось. Усадила за стол, а угощать-то и нечем. Было у Федора свое, солдатское. За столом мать рассказала: всех пообирали, шкуродеры окаянные! Прятали мы свиночек да курочек, кто куда горазд. Да неужто убережешь? Он шумит-грозит, подавай ему курицу, будь хоть распоследняя. С перепугу и последнюю отдавали. Вот и у меня ничего не осталось. Ой, худо было! Разорил село фашист проклятый! Сам видишь, что осталось… больше половины дворов спалил. Народ кто куда разбежался: кто в тыл, кто в партизаны. Девчонок сколько поугоняли! Вот и нашу Фросю увели…', 'Нужно ли говорить, что Россия богата природными ресурсами, - об этом знают все! Но настоящее её богатство - это люди, их ум, знания и опыт. По-прежнему многие русские учёные стараются уехать на Запад. И причина этому - не всегда деньги. Часто нет нужного оборудования в лабораториях, условий для работы. Как исправить положение? Прежде всего надо научиться правильно оценивать знания - так, как это делают во всех развитых странах.\\n', 'I. Общие положения\\n\\n1. Федеральное государственное автономное образовательное учреждение высшего образования \"Национальный исследовательский университет \"Высшая школа экономики\" (далее - университет) является унитарной некоммерческой организацией, созданной для осуществления образовательных, научных, социальных и культурных функций.\\n2. Учредителем и собственником имущества университета является Российская Федерация.\\nФункции и полномочия учредителя от имени Российской Федерации в отношении университета осуществляет Правительство Российской Федерации.\\nОтдельные функции и полномочия учредителя осуществляют Министерство науки и высшего образования Российской Федерации и Федеральное агентство по управлению государственным имуществом в соответствии с разграничениями, установленными настоящим уставом.\\nФункции и полномочия собственника имущества, переданного университету, от имени Российской Федерации осуществляет Федеральное агентство по управлению государственным имуществом в порядке, установленном законодательством Российской Федерации.\\nКонтроль за деятельностью университета в соответствии с законодательством Российской Федерации осуществляют Правительство Российской Федерации, Министерство науки и высшего образования Российской Федерации и Федеральное агентство по управлению государственным имуществом.\\n', 'Среди феноменологических моделей наибольшее распространение получили модели основанные на лучевых представлениях полей рассеяния и модели базирующиеся на принципе Гюйгенса-Френеля, согласно которому каждая точка волнового фронта рассеянного поля рассматривается как источник вторичных волн. К этому типу моделей относится модель локальных источников рассеяния. Несмотря на то, что все эти модели имеют одни и те же методологические основы, они имеют особенности, которые проявляются при дополнительных упрощениях и допущениях математического и физического характера. Аналоговой моделью принято называть стохастическую модель «блестящих» точек, получивую широкое распространение при анализе рассеянных полей от объектов, которые представлены в виде совокупности локальных отражателей.']\n"
          ],
          "name": "stdout"
        },
        {
          "output_type": "execute_result",
          "data": {
            "text/html": [
              "<div>\n",
              "<style scoped>\n",
              "    .dataframe tbody tr th:only-of-type {\n",
              "        vertical-align: middle;\n",
              "    }\n",
              "\n",
              "    .dataframe tbody tr th {\n",
              "        vertical-align: top;\n",
              "    }\n",
              "\n",
              "    .dataframe thead th {\n",
              "        text-align: right;\n",
              "    }\n",
              "</style>\n",
              "<table border=\"1\" class=\"dataframe\">\n",
              "  <thead>\n",
              "    <tr style=\"text-align: right;\">\n",
              "      <th></th>\n",
              "      <th>path</th>\n",
              "      <th>file_name</th>\n",
              "      <th>text</th>\n",
              "    </tr>\n",
              "  </thead>\n",
              "  <tbody>\n",
              "    <tr>\n",
              "      <th>0</th>\n",
              "      <td>/content/texts_to_predict/colloquial.txt</td>\n",
              "      <td>colloquial.txt</td>\n",
              "      <td>— Отворите же, черт возьми! Долго ли ещё мне п...</td>\n",
              "    </tr>\n",
              "    <tr>\n",
              "      <th>1</th>\n",
              "      <td>/content/texts_to_predict/fiction.txt</td>\n",
              "      <td>fiction.txt</td>\n",
              "      <td>Когда однорукий Федор вернулся домой, мать был...</td>\n",
              "    </tr>\n",
              "    <tr>\n",
              "      <th>2</th>\n",
              "      <td>/content/texts_to_predict/publicistic.txt</td>\n",
              "      <td>publicistic.txt</td>\n",
              "      <td>Нужно ли говорить, что Россия богата природным...</td>\n",
              "    </tr>\n",
              "    <tr>\n",
              "      <th>3</th>\n",
              "      <td>/content/texts_to_predict/official.txt</td>\n",
              "      <td>official.txt</td>\n",
              "      <td>I. Общие положения\\n\\n1. Федеральное государст...</td>\n",
              "    </tr>\n",
              "    <tr>\n",
              "      <th>4</th>\n",
              "      <td>/content/texts_to_predict/scientific.txt</td>\n",
              "      <td>scientific.txt</td>\n",
              "      <td>Среди феноменологических моделей наибольшее ра...</td>\n",
              "    </tr>\n",
              "  </tbody>\n",
              "</table>\n",
              "</div>"
            ],
            "text/plain": [
              "                                        path  ...                                               text\n",
              "0   /content/texts_to_predict/colloquial.txt  ...  — Отворите же, черт возьми! Долго ли ещё мне п...\n",
              "1      /content/texts_to_predict/fiction.txt  ...  Когда однорукий Федор вернулся домой, мать был...\n",
              "2  /content/texts_to_predict/publicistic.txt  ...  Нужно ли говорить, что Россия богата природным...\n",
              "3     /content/texts_to_predict/official.txt  ...  I. Общие положения\\n\\n1. Федеральное государст...\n",
              "4   /content/texts_to_predict/scientific.txt  ...  Среди феноменологических моделей наибольшее ра...\n",
              "\n",
              "[5 rows x 3 columns]"
            ]
          },
          "metadata": {
            "tags": []
          },
          "execution_count": 32
        }
      ]
    },
    {
      "cell_type": "code",
      "metadata": {
        "id": "GRonP169dFhc",
        "colab_type": "code",
        "colab": {
          "base_uri": "https://localhost:8080/",
          "height": 553
        },
        "outputId": "55708e18-53b7-4e66-81b9-54dc63c6f6d2"
      },
      "source": [
        "with open('saved_vectorizer', 'rb') as f:\n",
        "  saved_vectorizer = pickle.load(f)\n",
        "print(saved_vectorizer.idf_)\n",
        "\n",
        "vectorized_texts = saved_vectorizer.transform(np.array(texts))\n",
        "print(vectorized_texts)"
      ],
      "execution_count": 33,
      "outputs": [
        {
          "output_type": "stream",
          "text": [
            "[6.1590553 6.1590553 6.1590553 ... 6.1590553 6.1590553 6.1590553]\n",
            "  (0, 38269)\t0.42539620147773366\n",
            "  (0, 33738)\t0.22131231483693647\n",
            "  (0, 16294)\t0.48366425766583465\n",
            "  (0, 15092)\t0.517748885525787\n",
            "  (0, 14780)\t0.517748885525787\n",
            "  (1, 37190)\t0.29211632209179694\n",
            "  (1, 34548)\t0.32057850087707623\n",
            "  (1, 32908)\t0.2593660285166433\n",
            "  (1, 28902)\t0.1805978724471531\n",
            "  (1, 18844)\t0.24818506001098642\n",
            "  (1, 16294)\t0.32057850087707623\n",
            "  (1, 15689)\t0.23887714160736237\n",
            "  (1, 5096)\t0.6411570017541525\n",
            "  (1, 4516)\t0.28195773077520864\n",
            "  (2, 33738)\t0.17389595844492284\n",
            "  (2, 19064)\t0.38003876880652976\n",
            "  (2, 17454)\t0.3462974812482088\n",
            "  (2, 16294)\t0.38003876880652976\n",
            "  (2, 15092)\t0.40682073543279773\n",
            "  (2, 11019)\t0.5389370247523781\n",
            "  (2, 3300)\t0.32407266330049256\n",
            "  (4, 34764)\t0.23146037976410744\n",
            "  (4, 34548)\t0.21622279813112885\n",
            "  (4, 34119)\t0.19017398027666246\n",
            "  (4, 15092)\t0.6943811392923223\n",
            "  (4, 11019)\t0.15331392620070824\n",
            "  (4, 10859)\t0.23146037976410744\n",
            "  (4, 10843)\t0.1749363986436839\n",
            "  (4, 9823)\t0.3940514312073695\n",
            "  (4, 3300)\t0.1843809206010556\n",
            "  (4, 2945)\t0.20541156190964105\n",
            "  (4, 2159)\t0.20541156190964105\n"
          ],
          "name": "stdout"
        }
      ]
    },
    {
      "cell_type": "code",
      "metadata": {
        "id": "MxvKsnQZf15y",
        "colab_type": "code",
        "colab": {
          "base_uri": "https://localhost:8080/",
          "height": 33
        },
        "outputId": "1ba196fb-3135-4a05-c250-79556f343561"
      },
      "source": [
        "with open('saved_model', 'rb') as f:\n",
        "  saved_model = pickle.load(f)\n",
        "prediction = saved_model.predict(vectorized_texts)\n",
        "print(prediction)"
      ],
      "execution_count": 34,
      "outputs": [
        {
          "output_type": "stream",
          "text": [
            "[2 3 3 1 1]\n"
          ],
          "name": "stdout"
        }
      ]
    },
    {
      "cell_type": "code",
      "metadata": {
        "id": "vk4o0UuKxvzo",
        "colab_type": "code",
        "colab": {
          "base_uri": "https://localhost:8080/",
          "height": 191
        },
        "outputId": "b59ebcf0-eb49-48b5-ad34-d36ed82e9728"
      },
      "source": [
        "data['pred'] = prediction\n",
        "data.head()"
      ],
      "execution_count": 35,
      "outputs": [
        {
          "output_type": "execute_result",
          "data": {
            "text/html": [
              "<div>\n",
              "<style scoped>\n",
              "    .dataframe tbody tr th:only-of-type {\n",
              "        vertical-align: middle;\n",
              "    }\n",
              "\n",
              "    .dataframe tbody tr th {\n",
              "        vertical-align: top;\n",
              "    }\n",
              "\n",
              "    .dataframe thead th {\n",
              "        text-align: right;\n",
              "    }\n",
              "</style>\n",
              "<table border=\"1\" class=\"dataframe\">\n",
              "  <thead>\n",
              "    <tr style=\"text-align: right;\">\n",
              "      <th></th>\n",
              "      <th>path</th>\n",
              "      <th>file_name</th>\n",
              "      <th>text</th>\n",
              "      <th>pred</th>\n",
              "    </tr>\n",
              "  </thead>\n",
              "  <tbody>\n",
              "    <tr>\n",
              "      <th>0</th>\n",
              "      <td>/content/texts_to_predict/colloquial.txt</td>\n",
              "      <td>colloquial.txt</td>\n",
              "      <td>— Отворите же, черт возьми! Долго ли ещё мне п...</td>\n",
              "      <td>2</td>\n",
              "    </tr>\n",
              "    <tr>\n",
              "      <th>1</th>\n",
              "      <td>/content/texts_to_predict/fiction.txt</td>\n",
              "      <td>fiction.txt</td>\n",
              "      <td>Когда однорукий Федор вернулся домой, мать был...</td>\n",
              "      <td>3</td>\n",
              "    </tr>\n",
              "    <tr>\n",
              "      <th>2</th>\n",
              "      <td>/content/texts_to_predict/publicistic.txt</td>\n",
              "      <td>publicistic.txt</td>\n",
              "      <td>Нужно ли говорить, что Россия богата природным...</td>\n",
              "      <td>3</td>\n",
              "    </tr>\n",
              "    <tr>\n",
              "      <th>3</th>\n",
              "      <td>/content/texts_to_predict/official.txt</td>\n",
              "      <td>official.txt</td>\n",
              "      <td>I. Общие положения\\n\\n1. Федеральное государст...</td>\n",
              "      <td>1</td>\n",
              "    </tr>\n",
              "    <tr>\n",
              "      <th>4</th>\n",
              "      <td>/content/texts_to_predict/scientific.txt</td>\n",
              "      <td>scientific.txt</td>\n",
              "      <td>Среди феноменологических моделей наибольшее ра...</td>\n",
              "      <td>1</td>\n",
              "    </tr>\n",
              "  </tbody>\n",
              "</table>\n",
              "</div>"
            ],
            "text/plain": [
              "                                        path  ... pred\n",
              "0   /content/texts_to_predict/colloquial.txt  ...    2\n",
              "1      /content/texts_to_predict/fiction.txt  ...    3\n",
              "2  /content/texts_to_predict/publicistic.txt  ...    3\n",
              "3     /content/texts_to_predict/official.txt  ...    1\n",
              "4   /content/texts_to_predict/scientific.txt  ...    1\n",
              "\n",
              "[5 rows x 4 columns]"
            ]
          },
          "metadata": {
            "tags": []
          },
          "execution_count": 35
        }
      ]
    },
    {
      "cell_type": "code",
      "metadata": {
        "id": "nvCWY9d0gmMr",
        "colab_type": "code",
        "colab": {}
      },
      "source": [
        "['научный' 'официально-деловой' 'публицистический' 'разговорный'\n",
        " 'художественный']"
      ],
      "execution_count": 0,
      "outputs": []
    }
  ]
}